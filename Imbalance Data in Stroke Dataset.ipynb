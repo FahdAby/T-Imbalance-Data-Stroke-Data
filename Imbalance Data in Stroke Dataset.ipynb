{
 "cells": [
  {
   "cell_type": "markdown",
   "metadata": {},
   "source": [
    "# Imbalance Data in Cerebral Stroke Prediction"
   ]
  },
  {
   "cell_type": "markdown",
   "metadata": {},
   "source": [
    "## Subset Library"
   ]
  },
  {
   "cell_type": "code",
   "execution_count": 1,
   "metadata": {},
   "outputs": [],
   "source": [
    "import pandas as pd\n",
    "import numpy as np\n",
    "import seaborn as sns\n",
    "import matplotlib.pyplot as plt\n",
    "\n",
    "from sklearn.impute import KNNImputer #Imputation\n",
    "from sklearn.preprocessing import MinMaxScaler#scaling\n",
    "from sklearn.model_selection import train_test_split#splitting\n",
    "\n",
    "#Algorithms\n",
    "from sklearn.neighbors import KNeighborsClassifier\n",
    "from sklearn.svm import SVC\n",
    "from sklearn.naive_bayes import GaussianNB\n",
    "from sklearn.tree import DecisionTreeClassifier\n",
    "from sklearn.ensemble import RandomForestClassifier, AdaBoostClassifier\n",
    "from sklearn.metrics import classification_report\n",
    "\n",
    "import os\n"
   ]
  },
  {
   "cell_type": "markdown",
   "metadata": {},
   "source": [
    "## Subset Data"
   ]
  },
  {
   "cell_type": "code",
   "execution_count": 24,
   "metadata": {},
   "outputs": [
    {
     "data": {
      "text/html": [
       "<div>\n",
       "<style scoped>\n",
       "    .dataframe tbody tr th:only-of-type {\n",
       "        vertical-align: middle;\n",
       "    }\n",
       "\n",
       "    .dataframe tbody tr th {\n",
       "        vertical-align: top;\n",
       "    }\n",
       "\n",
       "    .dataframe thead th {\n",
       "        text-align: right;\n",
       "    }\n",
       "</style>\n",
       "<table border=\"1\" class=\"dataframe\">\n",
       "  <thead>\n",
       "    <tr style=\"text-align: right;\">\n",
       "      <th></th>\n",
       "      <th>id</th>\n",
       "      <th>gender</th>\n",
       "      <th>age</th>\n",
       "      <th>hypertension</th>\n",
       "      <th>heart_disease</th>\n",
       "      <th>ever_married</th>\n",
       "      <th>work_type</th>\n",
       "      <th>Residence_type</th>\n",
       "      <th>avg_glucose_level</th>\n",
       "      <th>bmi</th>\n",
       "      <th>smoking_status</th>\n",
       "      <th>stroke</th>\n",
       "    </tr>\n",
       "  </thead>\n",
       "  <tbody>\n",
       "    <tr>\n",
       "      <th>0</th>\n",
       "      <td>30669</td>\n",
       "      <td>Male</td>\n",
       "      <td>3.0</td>\n",
       "      <td>0</td>\n",
       "      <td>0</td>\n",
       "      <td>No</td>\n",
       "      <td>children</td>\n",
       "      <td>Rural</td>\n",
       "      <td>95.12</td>\n",
       "      <td>18.0</td>\n",
       "      <td>NaN</td>\n",
       "      <td>0</td>\n",
       "    </tr>\n",
       "    <tr>\n",
       "      <th>1</th>\n",
       "      <td>30468</td>\n",
       "      <td>Male</td>\n",
       "      <td>58.0</td>\n",
       "      <td>1</td>\n",
       "      <td>0</td>\n",
       "      <td>Yes</td>\n",
       "      <td>Private</td>\n",
       "      <td>Urban</td>\n",
       "      <td>87.96</td>\n",
       "      <td>39.2</td>\n",
       "      <td>never smoked</td>\n",
       "      <td>0</td>\n",
       "    </tr>\n",
       "    <tr>\n",
       "      <th>2</th>\n",
       "      <td>16523</td>\n",
       "      <td>Female</td>\n",
       "      <td>8.0</td>\n",
       "      <td>0</td>\n",
       "      <td>0</td>\n",
       "      <td>No</td>\n",
       "      <td>Private</td>\n",
       "      <td>Urban</td>\n",
       "      <td>110.89</td>\n",
       "      <td>17.6</td>\n",
       "      <td>NaN</td>\n",
       "      <td>0</td>\n",
       "    </tr>\n",
       "    <tr>\n",
       "      <th>3</th>\n",
       "      <td>56543</td>\n",
       "      <td>Female</td>\n",
       "      <td>70.0</td>\n",
       "      <td>0</td>\n",
       "      <td>0</td>\n",
       "      <td>Yes</td>\n",
       "      <td>Private</td>\n",
       "      <td>Rural</td>\n",
       "      <td>69.04</td>\n",
       "      <td>35.9</td>\n",
       "      <td>formerly smoked</td>\n",
       "      <td>0</td>\n",
       "    </tr>\n",
       "    <tr>\n",
       "      <th>4</th>\n",
       "      <td>46136</td>\n",
       "      <td>Male</td>\n",
       "      <td>14.0</td>\n",
       "      <td>0</td>\n",
       "      <td>0</td>\n",
       "      <td>No</td>\n",
       "      <td>Never_worked</td>\n",
       "      <td>Rural</td>\n",
       "      <td>161.28</td>\n",
       "      <td>19.1</td>\n",
       "      <td>NaN</td>\n",
       "      <td>0</td>\n",
       "    </tr>\n",
       "  </tbody>\n",
       "</table>\n",
       "</div>"
      ],
      "text/plain": [
       "      id  gender   age  hypertension  heart_disease ever_married  \\\n",
       "0  30669    Male   3.0             0              0           No   \n",
       "1  30468    Male  58.0             1              0          Yes   \n",
       "2  16523  Female   8.0             0              0           No   \n",
       "3  56543  Female  70.0             0              0          Yes   \n",
       "4  46136    Male  14.0             0              0           No   \n",
       "\n",
       "      work_type Residence_type  avg_glucose_level   bmi   smoking_status  \\\n",
       "0      children          Rural              95.12  18.0              NaN   \n",
       "1       Private          Urban              87.96  39.2     never smoked   \n",
       "2       Private          Urban             110.89  17.6              NaN   \n",
       "3       Private          Rural              69.04  35.9  formerly smoked   \n",
       "4  Never_worked          Rural             161.28  19.1              NaN   \n",
       "\n",
       "   stroke  \n",
       "0       0  \n",
       "1       0  \n",
       "2       0  \n",
       "3       0  \n",
       "4       0  "
      ]
     },
     "execution_count": 24,
     "metadata": {},
     "output_type": "execute_result"
    }
   ],
   "source": [
    "data = pd.read_csv(\"https://raw.githubusercontent.com/FahdAby/T-Imbalance-Data-Stroke-Data/master/stroke_data.csv\")\n",
    "data.head()"
   ]
  },
  {
   "cell_type": "markdown",
   "metadata": {},
   "source": [
    "## EDA"
   ]
  },
  {
   "cell_type": "markdown",
   "metadata": {},
   "source": [
    "### Eksplorasi Data"
   ]
  },
  {
   "cell_type": "code",
   "execution_count": 3,
   "metadata": {},
   "outputs": [
    {
     "data": {
      "text/plain": [
       "(43400, 12)"
      ]
     },
     "execution_count": 3,
     "metadata": {},
     "output_type": "execute_result"
    }
   ],
   "source": [
    "# ukuran data\n",
    "data.shape"
   ]
  },
  {
   "cell_type": "code",
   "execution_count": 4,
   "metadata": {},
   "outputs": [
    {
     "data": {
      "text/plain": [
       "id                       0\n",
       "gender                   0\n",
       "age                      0\n",
       "hypertension             0\n",
       "heart_disease            0\n",
       "ever_married             0\n",
       "work_type                0\n",
       "Residence_type           0\n",
       "avg_glucose_level        0\n",
       "bmi                   1462\n",
       "smoking_status       13292\n",
       "stroke                   0\n",
       "dtype: int64"
      ]
     },
     "execution_count": 4,
     "metadata": {},
     "output_type": "execute_result"
    }
   ],
   "source": [
    "# mengecek missing value\n",
    "data.isna().sum()"
   ]
  },
  {
   "cell_type": "markdown",
   "metadata": {},
   "source": [
    "**Interpretasi :**\n",
    "Setelah dicek missing value dalam dataset tersebut, didapatkan bahwa terdapat 2 variabel yang memiliki missing value, yaitu BMI dengan jumlah 1462 dan variabel smoking status dengan jumlah missing value 13292."
   ]
  },
  {
   "cell_type": "code",
   "execution_count": 5,
   "metadata": {},
   "outputs": [
    {
     "data": {
      "text/plain": [
       "id                     int64\n",
       "gender                object\n",
       "age                  float64\n",
       "hypertension           int64\n",
       "heart_disease          int64\n",
       "ever_married          object\n",
       "work_type             object\n",
       "Residence_type        object\n",
       "avg_glucose_level    float64\n",
       "bmi                  float64\n",
       "smoking_status        object\n",
       "stroke                 int64\n",
       "dtype: object"
      ]
     },
     "execution_count": 5,
     "metadata": {},
     "output_type": "execute_result"
    }
   ],
   "source": [
    "# Tipe dari data pada setiap variabel\n",
    "data.dtypes"
   ]
  },
  {
   "cell_type": "markdown",
   "metadata": {},
   "source": [
    "### Mencari Imbalance Data"
   ]
  },
  {
   "cell_type": "code",
   "execution_count": 6,
   "metadata": {},
   "outputs": [
    {
     "name": "stdout",
     "output_type": "stream",
     "text": [
      "gender\n",
      "Female    25665\n",
      "Male      17724\n",
      "Other        11\n",
      "Name: count, dtype: int64\n",
      "\n",
      "hypertension\n",
      "0    39339\n",
      "1     4061\n",
      "Name: count, dtype: int64\n",
      "\n",
      "heart_disease\n",
      "0    41338\n",
      "1     2062\n",
      "Name: count, dtype: int64\n",
      "\n",
      "ever_married\n",
      "Yes    27938\n",
      "No     15462\n",
      "Name: count, dtype: int64\n",
      "\n",
      "work_type\n",
      "Private          24834\n",
      "Self-employed     6793\n",
      "children          6156\n",
      "Govt_job          5440\n",
      "Never_worked       177\n",
      "Name: count, dtype: int64\n",
      "\n",
      "Residence_type\n",
      "Urban    21756\n",
      "Rural    21644\n",
      "Name: count, dtype: int64\n",
      "\n",
      "smoking_status\n",
      "never smoked       16053\n",
      "formerly smoked     7493\n",
      "smokes              6562\n",
      "Name: count, dtype: int64\n",
      "\n",
      "stroke\n",
      "0    42617\n",
      "1      783\n",
      "Name: count, dtype: int64\n",
      "\n"
     ]
    }
   ],
   "source": [
    "for i in data.columns:\n",
    "    if data[i].dtype == \"float64\":\n",
    "        continue\n",
    "    else:\n",
    "        if i != \"id\":\n",
    "            print(data[i].value_counts())\n",
    "            print()"
   ]
  },
  {
   "cell_type": "code",
   "execution_count": 7,
   "metadata": {},
   "outputs": [
    {
     "data": {
      "text/plain": [
       "stroke\n",
       "0    42617\n",
       "1      783\n",
       "Name: count, dtype: int64"
      ]
     },
     "execution_count": 7,
     "metadata": {},
     "output_type": "execute_result"
    }
   ],
   "source": [
    "data['stroke'].value_counts()"
   ]
  },
  {
   "cell_type": "markdown",
   "metadata": {},
   "source": [
    "**Interpretasi :**\n",
    "Dari 2 code sebelumnya, didapatkan bahwa variabel atau kolom yang memiliki nilai yang imbalance adalah variabel stoke. Variabel Stroke memiliki 2 karakter yaitu 0 dan 1, yang dimana jumlah karakter 0 (42617) lebih banyak dari pada jumlah karakter 1 (783). Sehingga perbandingan nya mencapai 54:1."
   ]
  },
  {
   "cell_type": "code",
   "execution_count": 8,
   "metadata": {},
   "outputs": [
    {
     "data": {
      "image/png": "[encoded data removed]",
      "text/plain": [
       "<Figure size 640x480 with 1 Axes>"
      ]
     },
     "metadata": {},
     "output_type": "display_data"
    }
   ],
   "source": [
    "# Visualiasasi Data Imbalance\n",
    "sns.countplot(x='stroke',data=data, color='lightseagreen')\n",
    "plt.title(\"Imbalanced data\")\n",
    "plt.show()"
   ]
  },
  {
   "cell_type": "markdown",
   "metadata": {},
   "source": [
    "**Interpretasi :**\n",
    "Bisa dilihat bahwa perbandingan tinggi barchart dari vairabel storke sangat berbeda jauh, karakter 0 memiliki jumlah yang sangat jauh berbeda dari karakter 1."
   ]
  },
  {
   "cell_type": "markdown",
   "metadata": {},
   "source": [
    "## Data Preprocessing"
   ]
  },
  {
   "cell_type": "markdown",
   "metadata": {},
   "source": [
    "### One Hot Encoding"
   ]
  },
  {
   "cell_type": "code",
   "execution_count": 9,
   "metadata": {},
   "outputs": [
    {
     "name": "stdout",
     "output_type": "stream",
     "text": [
      "Variabel yang bertipe Object :\n",
      " ['gender', 'ever_married', 'work_type', 'Residence_type', 'smoking_status']\n"
     ]
    }
   ],
   "source": [
    "# Megambil Kolo yang bertipe object saja\n",
    "kolom_kate = []\n",
    "\n",
    "for i in data.columns:\n",
    "    if data[i].dtypes == \"object\":\n",
    "        kolom_kate.append(i)\n",
    "\n",
    "print(f\"Variabel yang bertipe Object :\\n {kolom_kate}\")"
   ]
  },
  {
   "cell_type": "code",
   "execution_count": 10,
   "metadata": {},
   "outputs": [
    {
     "data": {
      "text/html": [
       "<div>\n",
       "<style scoped>\n",
       "    .dataframe tbody tr th:only-of-type {\n",
       "        vertical-align: middle;\n",
       "    }\n",
       "\n",
       "    .dataframe tbody tr th {\n",
       "        vertical-align: top;\n",
       "    }\n",
       "\n",
       "    .dataframe thead th {\n",
       "        text-align: right;\n",
       "    }\n",
       "</style>\n",
       "<table border=\"1\" class=\"dataframe\">\n",
       "  <thead>\n",
       "    <tr style=\"text-align: right;\">\n",
       "      <th></th>\n",
       "      <th>id</th>\n",
       "      <th>age</th>\n",
       "      <th>hypertension</th>\n",
       "      <th>heart_disease</th>\n",
       "      <th>avg_glucose_level</th>\n",
       "      <th>bmi</th>\n",
       "      <th>stroke</th>\n",
       "      <th>gender_Female</th>\n",
       "      <th>gender_Male</th>\n",
       "      <th>gender_Other</th>\n",
       "      <th>...</th>\n",
       "      <th>work_type_Govt_job</th>\n",
       "      <th>work_type_Never_worked</th>\n",
       "      <th>work_type_Private</th>\n",
       "      <th>work_type_Self-employed</th>\n",
       "      <th>work_type_children</th>\n",
       "      <th>Residence_type_Rural</th>\n",
       "      <th>Residence_type_Urban</th>\n",
       "      <th>smoking_status_formerly smoked</th>\n",
       "      <th>smoking_status_never smoked</th>\n",
       "      <th>smoking_status_smokes</th>\n",
       "    </tr>\n",
       "  </thead>\n",
       "  <tbody>\n",
       "    <tr>\n",
       "      <th>0</th>\n",
       "      <td>30669</td>\n",
       "      <td>3.0</td>\n",
       "      <td>0</td>\n",
       "      <td>0</td>\n",
       "      <td>95.12</td>\n",
       "      <td>18.0</td>\n",
       "      <td>0</td>\n",
       "      <td>0</td>\n",
       "      <td>1</td>\n",
       "      <td>0</td>\n",
       "      <td>...</td>\n",
       "      <td>0</td>\n",
       "      <td>0</td>\n",
       "      <td>0</td>\n",
       "      <td>0</td>\n",
       "      <td>1</td>\n",
       "      <td>1</td>\n",
       "      <td>0</td>\n",
       "      <td>0</td>\n",
       "      <td>0</td>\n",
       "      <td>0</td>\n",
       "    </tr>\n",
       "    <tr>\n",
       "      <th>1</th>\n",
       "      <td>30468</td>\n",
       "      <td>58.0</td>\n",
       "      <td>1</td>\n",
       "      <td>0</td>\n",
       "      <td>87.96</td>\n",
       "      <td>39.2</td>\n",
       "      <td>0</td>\n",
       "      <td>0</td>\n",
       "      <td>1</td>\n",
       "      <td>0</td>\n",
       "      <td>...</td>\n",
       "      <td>0</td>\n",
       "      <td>0</td>\n",
       "      <td>1</td>\n",
       "      <td>0</td>\n",
       "      <td>0</td>\n",
       "      <td>0</td>\n",
       "      <td>1</td>\n",
       "      <td>0</td>\n",
       "      <td>1</td>\n",
       "      <td>0</td>\n",
       "    </tr>\n",
       "    <tr>\n",
       "      <th>2</th>\n",
       "      <td>16523</td>\n",
       "      <td>8.0</td>\n",
       "      <td>0</td>\n",
       "      <td>0</td>\n",
       "      <td>110.89</td>\n",
       "      <td>17.6</td>\n",
       "      <td>0</td>\n",
       "      <td>1</td>\n",
       "      <td>0</td>\n",
       "      <td>0</td>\n",
       "      <td>...</td>\n",
       "      <td>0</td>\n",
       "      <td>0</td>\n",
       "      <td>1</td>\n",
       "      <td>0</td>\n",
       "      <td>0</td>\n",
       "      <td>0</td>\n",
       "      <td>1</td>\n",
       "      <td>0</td>\n",
       "      <td>0</td>\n",
       "      <td>0</td>\n",
       "    </tr>\n",
       "    <tr>\n",
       "      <th>3</th>\n",
       "      <td>56543</td>\n",
       "      <td>70.0</td>\n",
       "      <td>0</td>\n",
       "      <td>0</td>\n",
       "      <td>69.04</td>\n",
       "      <td>35.9</td>\n",
       "      <td>0</td>\n",
       "      <td>1</td>\n",
       "      <td>0</td>\n",
       "      <td>0</td>\n",
       "      <td>...</td>\n",
       "      <td>0</td>\n",
       "      <td>0</td>\n",
       "      <td>1</td>\n",
       "      <td>0</td>\n",
       "      <td>0</td>\n",
       "      <td>1</td>\n",
       "      <td>0</td>\n",
       "      <td>1</td>\n",
       "      <td>0</td>\n",
       "      <td>0</td>\n",
       "    </tr>\n",
       "    <tr>\n",
       "      <th>4</th>\n",
       "      <td>46136</td>\n",
       "      <td>14.0</td>\n",
       "      <td>0</td>\n",
       "      <td>0</td>\n",
       "      <td>161.28</td>\n",
       "      <td>19.1</td>\n",
       "      <td>0</td>\n",
       "      <td>0</td>\n",
       "      <td>1</td>\n",
       "      <td>0</td>\n",
       "      <td>...</td>\n",
       "      <td>0</td>\n",
       "      <td>1</td>\n",
       "      <td>0</td>\n",
       "      <td>0</td>\n",
       "      <td>0</td>\n",
       "      <td>1</td>\n",
       "      <td>0</td>\n",
       "      <td>0</td>\n",
       "      <td>0</td>\n",
       "      <td>0</td>\n",
       "    </tr>\n",
       "  </tbody>\n",
       "</table>\n",
       "<p>5 rows × 22 columns</p>\n",
       "</div>"
      ],
      "text/plain": [
       "      id   age  hypertension  heart_disease  avg_glucose_level   bmi  stroke  \\\n",
       "0  30669   3.0             0              0              95.12  18.0       0   \n",
       "1  30468  58.0             1              0              87.96  39.2       0   \n",
       "2  16523   8.0             0              0             110.89  17.6       0   \n",
       "3  56543  70.0             0              0              69.04  35.9       0   \n",
       "4  46136  14.0             0              0             161.28  19.1       0   \n",
       "\n",
       "   gender_Female  gender_Male  gender_Other  ...  work_type_Govt_job  \\\n",
       "0              0            1             0  ...                   0   \n",
       "1              0            1             0  ...                   0   \n",
       "2              1            0             0  ...                   0   \n",
       "3              1            0             0  ...                   0   \n",
       "4              0            1             0  ...                   0   \n",
       "\n",
       "   work_type_Never_worked  work_type_Private  work_type_Self-employed  \\\n",
       "0                       0                  0                        0   \n",
       "1                       0                  1                        0   \n",
       "2                       0                  1                        0   \n",
       "3                       0                  1                        0   \n",
       "4                       1                  0                        0   \n",
       "\n",
       "   work_type_children  Residence_type_Rural  Residence_type_Urban  \\\n",
       "0                   1                     1                     0   \n",
       "1                   0                     0                     1   \n",
       "2                   0                     0                     1   \n",
       "3                   0                     1                     0   \n",
       "4                   0                     1                     0   \n",
       "\n",
       "   smoking_status_formerly smoked  smoking_status_never smoked  \\\n",
       "0                               0                            0   \n",
       "1                               0                            1   \n",
       "2                               0                            0   \n",
       "3                               1                            0   \n",
       "4                               0                            0   \n",
       "\n",
       "   smoking_status_smokes  \n",
       "0                      0  \n",
       "1                      0  \n",
       "2                      0  \n",
       "3                      0  \n",
       "4                      0  \n",
       "\n",
       "[5 rows x 22 columns]"
      ]
     },
     "execution_count": 10,
     "metadata": {},
     "output_type": "execute_result"
    }
   ],
   "source": [
    "data = pd.get_dummies(data, columns = kolom_kate)\n",
    "data = data.replace({False: 0, True: 1})\n",
    "data.head()"
   ]
  },
  {
   "cell_type": "markdown",
   "metadata": {},
   "source": [
    "### Mengatasi Missing Value"
   ]
  },
  {
   "cell_type": "code",
   "execution_count": 11,
   "metadata": {},
   "outputs": [
    {
     "data": {
      "text/html": [
       "<div>\n",
       "<style scoped>\n",
       "    .dataframe tbody tr th:only-of-type {\n",
       "        vertical-align: middle;\n",
       "    }\n",
       "\n",
       "    .dataframe tbody tr th {\n",
       "        vertical-align: top;\n",
       "    }\n",
       "\n",
       "    .dataframe thead th {\n",
       "        text-align: right;\n",
       "    }\n",
       "</style>\n",
       "<table border=\"1\" class=\"dataframe\">\n",
       "  <thead>\n",
       "    <tr style=\"text-align: right;\">\n",
       "      <th></th>\n",
       "      <th>id</th>\n",
       "      <th>age</th>\n",
       "      <th>hypertension</th>\n",
       "      <th>heart_disease</th>\n",
       "      <th>avg_glucose_level</th>\n",
       "      <th>bmi</th>\n",
       "      <th>stroke</th>\n",
       "      <th>gender_Female</th>\n",
       "      <th>gender_Male</th>\n",
       "      <th>gender_Other</th>\n",
       "      <th>...</th>\n",
       "      <th>work_type_Govt_job</th>\n",
       "      <th>work_type_Never_worked</th>\n",
       "      <th>work_type_Private</th>\n",
       "      <th>work_type_Self-employed</th>\n",
       "      <th>work_type_children</th>\n",
       "      <th>Residence_type_Rural</th>\n",
       "      <th>Residence_type_Urban</th>\n",
       "      <th>smoking_status_formerly smoked</th>\n",
       "      <th>smoking_status_never smoked</th>\n",
       "      <th>smoking_status_smokes</th>\n",
       "    </tr>\n",
       "  </thead>\n",
       "  <tbody>\n",
       "    <tr>\n",
       "      <th>0</th>\n",
       "      <td>30669.0</td>\n",
       "      <td>3.0</td>\n",
       "      <td>0.0</td>\n",
       "      <td>0.0</td>\n",
       "      <td>95.12</td>\n",
       "      <td>18.0</td>\n",
       "      <td>0.0</td>\n",
       "      <td>0.0</td>\n",
       "      <td>1.0</td>\n",
       "      <td>0.0</td>\n",
       "      <td>...</td>\n",
       "      <td>0.0</td>\n",
       "      <td>0.0</td>\n",
       "      <td>0.0</td>\n",
       "      <td>0.0</td>\n",
       "      <td>1.0</td>\n",
       "      <td>1.0</td>\n",
       "      <td>0.0</td>\n",
       "      <td>0.0</td>\n",
       "      <td>0.0</td>\n",
       "      <td>0.0</td>\n",
       "    </tr>\n",
       "    <tr>\n",
       "      <th>1</th>\n",
       "      <td>30468.0</td>\n",
       "      <td>58.0</td>\n",
       "      <td>1.0</td>\n",
       "      <td>0.0</td>\n",
       "      <td>87.96</td>\n",
       "      <td>39.2</td>\n",
       "      <td>0.0</td>\n",
       "      <td>0.0</td>\n",
       "      <td>1.0</td>\n",
       "      <td>0.0</td>\n",
       "      <td>...</td>\n",
       "      <td>0.0</td>\n",
       "      <td>0.0</td>\n",
       "      <td>1.0</td>\n",
       "      <td>0.0</td>\n",
       "      <td>0.0</td>\n",
       "      <td>0.0</td>\n",
       "      <td>1.0</td>\n",
       "      <td>0.0</td>\n",
       "      <td>1.0</td>\n",
       "      <td>0.0</td>\n",
       "    </tr>\n",
       "    <tr>\n",
       "      <th>2</th>\n",
       "      <td>16523.0</td>\n",
       "      <td>8.0</td>\n",
       "      <td>0.0</td>\n",
       "      <td>0.0</td>\n",
       "      <td>110.89</td>\n",
       "      <td>17.6</td>\n",
       "      <td>0.0</td>\n",
       "      <td>1.0</td>\n",
       "      <td>0.0</td>\n",
       "      <td>0.0</td>\n",
       "      <td>...</td>\n",
       "      <td>0.0</td>\n",
       "      <td>0.0</td>\n",
       "      <td>1.0</td>\n",
       "      <td>0.0</td>\n",
       "      <td>0.0</td>\n",
       "      <td>0.0</td>\n",
       "      <td>1.0</td>\n",
       "      <td>0.0</td>\n",
       "      <td>0.0</td>\n",
       "      <td>0.0</td>\n",
       "    </tr>\n",
       "    <tr>\n",
       "      <th>3</th>\n",
       "      <td>56543.0</td>\n",
       "      <td>70.0</td>\n",
       "      <td>0.0</td>\n",
       "      <td>0.0</td>\n",
       "      <td>69.04</td>\n",
       "      <td>35.9</td>\n",
       "      <td>0.0</td>\n",
       "      <td>1.0</td>\n",
       "      <td>0.0</td>\n",
       "      <td>0.0</td>\n",
       "      <td>...</td>\n",
       "      <td>0.0</td>\n",
       "      <td>0.0</td>\n",
       "      <td>1.0</td>\n",
       "      <td>0.0</td>\n",
       "      <td>0.0</td>\n",
       "      <td>1.0</td>\n",
       "      <td>0.0</td>\n",
       "      <td>1.0</td>\n",
       "      <td>0.0</td>\n",
       "      <td>0.0</td>\n",
       "    </tr>\n",
       "    <tr>\n",
       "      <th>4</th>\n",
       "      <td>46136.0</td>\n",
       "      <td>14.0</td>\n",
       "      <td>0.0</td>\n",
       "      <td>0.0</td>\n",
       "      <td>161.28</td>\n",
       "      <td>19.1</td>\n",
       "      <td>0.0</td>\n",
       "      <td>0.0</td>\n",
       "      <td>1.0</td>\n",
       "      <td>0.0</td>\n",
       "      <td>...</td>\n",
       "      <td>0.0</td>\n",
       "      <td>1.0</td>\n",
       "      <td>0.0</td>\n",
       "      <td>0.0</td>\n",
       "      <td>0.0</td>\n",
       "      <td>1.0</td>\n",
       "      <td>0.0</td>\n",
       "      <td>0.0</td>\n",
       "      <td>0.0</td>\n",
       "      <td>0.0</td>\n",
       "    </tr>\n",
       "  </tbody>\n",
       "</table>\n",
       "<p>5 rows × 22 columns</p>\n",
       "</div>"
      ],
      "text/plain": [
       "        id   age  hypertension  heart_disease  avg_glucose_level   bmi  \\\n",
       "0  30669.0   3.0           0.0            0.0              95.12  18.0   \n",
       "1  30468.0  58.0           1.0            0.0              87.96  39.2   \n",
       "2  16523.0   8.0           0.0            0.0             110.89  17.6   \n",
       "3  56543.0  70.0           0.0            0.0              69.04  35.9   \n",
       "4  46136.0  14.0           0.0            0.0             161.28  19.1   \n",
       "\n",
       "   stroke  gender_Female  gender_Male  gender_Other  ...  work_type_Govt_job  \\\n",
       "0     0.0            0.0          1.0           0.0  ...                 0.0   \n",
       "1     0.0            0.0          1.0           0.0  ...                 0.0   \n",
       "2     0.0            1.0          0.0           0.0  ...                 0.0   \n",
       "3     0.0            1.0          0.0           0.0  ...                 0.0   \n",
       "4     0.0            0.0          1.0           0.0  ...                 0.0   \n",
       "\n",
       "   work_type_Never_worked  work_type_Private  work_type_Self-employed  \\\n",
       "0                     0.0                0.0                      0.0   \n",
       "1                     0.0                1.0                      0.0   \n",
       "2                     0.0                1.0                      0.0   \n",
       "3                     0.0                1.0                      0.0   \n",
       "4                     1.0                0.0                      0.0   \n",
       "\n",
       "   work_type_children  Residence_type_Rural  Residence_type_Urban  \\\n",
       "0                 1.0                   1.0                   0.0   \n",
       "1                 0.0                   0.0                   1.0   \n",
       "2                 0.0                   0.0                   1.0   \n",
       "3                 0.0                   1.0                   0.0   \n",
       "4                 0.0                   1.0                   0.0   \n",
       "\n",
       "   smoking_status_formerly smoked  smoking_status_never smoked  \\\n",
       "0                             0.0                          0.0   \n",
       "1                             0.0                          1.0   \n",
       "2                             0.0                          0.0   \n",
       "3                             1.0                          0.0   \n",
       "4                             0.0                          0.0   \n",
       "\n",
       "   smoking_status_smokes  \n",
       "0                    0.0  \n",
       "1                    0.0  \n",
       "2                    0.0  \n",
       "3                    0.0  \n",
       "4                    0.0  \n",
       "\n",
       "[5 rows x 22 columns]"
      ]
     },
     "execution_count": 11,
     "metadata": {},
     "output_type": "execute_result"
    }
   ],
   "source": [
    "imput = KNNImputer(missing_values=np.nan)\n",
    "tab = imput.fit_transform(data)\n",
    "data_baru = pd.DataFrame(tab, columns=data.columns)\n",
    "data_baru.head()"
   ]
  },
  {
   "cell_type": "code",
   "execution_count": 12,
   "metadata": {},
   "outputs": [
    {
     "name": "stdout",
     "output_type": "stream",
     "text": [
      "                                Missing Value Tipe Data\n",
      "id                                          0   float64\n",
      "age                                         0   float64\n",
      "hypertension                                0   float64\n",
      "heart_disease                               0   float64\n",
      "avg_glucose_level                           0   float64\n",
      "bmi                                         0   float64\n",
      "stroke                                      0   float64\n",
      "gender_Female                               0   float64\n",
      "gender_Male                                 0   float64\n",
      "gender_Other                                0   float64\n",
      "ever_married_No                             0   float64\n",
      "ever_married_Yes                            0   float64\n",
      "work_type_Govt_job                          0   float64\n",
      "work_type_Never_worked                      0   float64\n",
      "work_type_Private                           0   float64\n",
      "work_type_Self-employed                     0   float64\n",
      "work_type_children                          0   float64\n",
      "Residence_type_Rural                        0   float64\n",
      "Residence_type_Urban                        0   float64\n",
      "smoking_status_formerly smoked              0   float64\n",
      "smoking_status_never smoked                 0   float64\n",
      "smoking_status_smokes                       0   float64\n"
     ]
    }
   ],
   "source": [
    "# Mengecek Missing Value dan tipe data\n",
    "tabel = {\"Missing Value\" : data_baru.isna().sum(),\n",
    "         \"Tipe Data\" : data_baru.dtypes}\n",
    "\n",
    "jawab = pd.DataFrame(tabel)\n",
    "print(jawab)"
   ]
  },
  {
   "cell_type": "markdown",
   "metadata": {},
   "source": [
    "### Split Data"
   ]
  },
  {
   "cell_type": "code",
   "execution_count": 13,
   "metadata": {},
   "outputs": [],
   "source": [
    "X = data_baru.drop('stroke',axis=1)\n",
    "y = data_baru['stroke']"
   ]
  },
  {
   "cell_type": "markdown",
   "metadata": {},
   "source": [
    "### Scalling Data"
   ]
  },
  {
   "cell_type": "code",
   "execution_count": 14,
   "metadata": {},
   "outputs": [],
   "source": [
    "minmax = MinMaxScaler()\n",
    "X = minmax.fit_transform(X)"
   ]
  },
  {
   "cell_type": "markdown",
   "metadata": {},
   "source": [
    "## Modeling Awal"
   ]
  },
  {
   "cell_type": "markdown",
   "metadata": {},
   "source": [
    "### Splitting Test dan Train Data"
   ]
  },
  {
   "cell_type": "code",
   "execution_count": 15,
   "metadata": {},
   "outputs": [],
   "source": [
    "X_train,X_test,y_train,y_test = train_test_split(X,y,test_size=0.3,random_state=1)"
   ]
  },
  {
   "cell_type": "markdown",
   "metadata": {},
   "source": [
    "### Model Building dan Evaluation"
   ]
  },
  {
   "cell_type": "code",
   "execution_count": 16,
   "metadata": {},
   "outputs": [
    {
     "name": "stdout",
     "output_type": "stream",
     "text": [
      "MODEL NAME: RandomForestClassifier()\n"
     ]
    },
    {
     "name": "stdout",
     "output_type": "stream",
     "text": [
      "              precision    recall  f1-score   support\n",
      "\n",
      "         0.0       0.98      1.00      0.99     12791\n",
      "         1.0       0.00      0.00      0.00       229\n",
      "\n",
      "    accuracy                           0.98     13020\n",
      "   macro avg       0.49      0.50      0.50     13020\n",
      "weighted avg       0.97      0.98      0.97     13020\n",
      "\n"
     ]
    },
    {
     "name": "stderr",
     "output_type": "stream",
     "text": [
      "c:\\Users\\User\\AppData\\Local\\Programs\\Python\\Python312\\Lib\\site-packages\\sklearn\\metrics\\_classification.py:1471: UndefinedMetricWarning: Precision and F-score are ill-defined and being set to 0.0 in labels with no predicted samples. Use `zero_division` parameter to control this behavior.\n",
      "  _warn_prf(average, modifier, msg_start, len(result))\n",
      "c:\\Users\\User\\AppData\\Local\\Programs\\Python\\Python312\\Lib\\site-packages\\sklearn\\metrics\\_classification.py:1471: UndefinedMetricWarning: Precision and F-score are ill-defined and being set to 0.0 in labels with no predicted samples. Use `zero_division` parameter to control this behavior.\n",
      "  _warn_prf(average, modifier, msg_start, len(result))\n",
      "c:\\Users\\User\\AppData\\Local\\Programs\\Python\\Python312\\Lib\\site-packages\\sklearn\\metrics\\_classification.py:1471: UndefinedMetricWarning: Precision and F-score are ill-defined and being set to 0.0 in labels with no predicted samples. Use `zero_division` parameter to control this behavior.\n",
      "  _warn_prf(average, modifier, msg_start, len(result))\n"
     ]
    }
   ],
   "source": [
    "rf = RandomForestClassifier()\n",
    "\n",
    "models = [rf]\n",
    "\n",
    "for model in models:\n",
    "    print(\"MODEL NAME:\",model)\n",
    "    model.fit(X_train,y_train)\n",
    "    y_pred = model.predict(X_test)\n",
    "\n",
    "    print(classification_report(y_test,y_pred))"
   ]
  },
  {
   "cell_type": "markdown",
   "metadata": {},
   "source": [
    "## Model dengan mengatasi Imbalance Data"
   ]
  },
  {
   "cell_type": "markdown",
   "metadata": {},
   "source": [
    "## Metode Over Sampling"
   ]
  },
  {
   "cell_type": "markdown",
   "metadata": {},
   "source": [
    "Dengan menerapkan metode over sampling, khususnya menggunakan SMOTE, sebuah pendekatan yang umum digunakan untuk memperoleh sampel tambahan dari kelas minoritas, distribusi kelas dapat diubah menjadi lebih seimbang. Teknik SMOTE secara khusus digunakan untuk menangani ketidakseimbangan kelas dengan menciptakan sampel sintetis dari kelas minoritas. Hal ini membantu memperbaiki masalah ketidakseimbangan kelas dalam dataset dan meningkatkan kinerja model dalam memprediksi kelas minoritas dengan memperluas dataset melalui pembuatan sampel sintetis.\n",
    "\n",
    "\n",
    "\n",
    "\n"
   ]
  },
  {
   "cell_type": "code",
   "execution_count": 17,
   "metadata": {},
   "outputs": [],
   "source": [
    "#Over sampling SMOTE\n",
    "from imblearn.over_sampling import SMOTE\n",
    "\n",
    "os = SMOTE(random_state=1)\n",
    "X_os,y_os = os.fit_resample(X,y)\n",
    "\n",
    "X_train,X_test,y_train,y_test = train_test_split(X_os,y_os,test_size=0.3,random_state=1)"
   ]
  },
  {
   "cell_type": "markdown",
   "metadata": {},
   "source": [
    "#### Pembuatan Model dan Evaluasi"
   ]
  },
  {
   "cell_type": "code",
   "execution_count": 18,
   "metadata": {},
   "outputs": [
    {
     "name": "stdout",
     "output_type": "stream",
     "text": [
      "MODEL NAME: RandomForestClassifier()\n"
     ]
    },
    {
     "name": "stdout",
     "output_type": "stream",
     "text": [
      "              precision    recall  f1-score   support\n",
      "\n",
      "         0.0       0.99      0.95      0.97     12883\n",
      "         1.0       0.95      0.99      0.97     12688\n",
      "\n",
      "    accuracy                           0.97     25571\n",
      "   macro avg       0.97      0.97      0.97     25571\n",
      "weighted avg       0.97      0.97      0.97     25571\n",
      "\n"
     ]
    }
   ],
   "source": [
    "rf1 = RandomForestClassifier()\n",
    "\n",
    "models = [rf1]\n",
    "\n",
    "for model in models:\n",
    "    print(\"MODEL NAME:\",model)\n",
    "    model.fit(X_train,y_train)\n",
    "    y_pred = model.predict(X_test)\n",
    "\n",
    "    print(classification_report(y_test,y_pred))"
   ]
  },
  {
   "cell_type": "markdown",
   "metadata": {},
   "source": [
    "**Interpretasi :**\n",
    "\n",
    "Ketika dilakukan oversampling, model RandomForestClassifier memberikan hasil yang sangat memuaskan dalam memprediksi kelas 0 dan 1. Dengan presisi yang mencapai 0.99 untuk kelas 0 dan 0.95 untuk kelas 1, model ini cenderung memberikan prediksi yang sangat akurat untuk kedua kelas tersebut. Selain itu, recall yang tinggi, yaitu 0.95 untuk kelas 0 dan 0.99 untuk kelas 1, menunjukkan bahwa model ini mampu mengidentifikasi sebagian besar instansi dari setiap kelas yang sebenarnya dengan baik. Skor F1 yang tinggi, mencapai 0.97, menunjukkan bahwa model ini berhasil mengkombinasikan presisi dan recall dengan sangat baik. Dengan akurasi keseluruhan mencapai 0.97, model ini dapat dianggap sangat efektif dalam melakukan prediksi secara keseluruhan."
   ]
  },
  {
   "cell_type": "markdown",
   "metadata": {},
   "source": [
    "## Metode Under Sampling"
   ]
  },
  {
   "cell_type": "markdown",
   "metadata": {},
   "source": [
    "Dengan menerapkan metode undersampling, khususnya menggunakan Random Under Sampler, pendekatan ini bertujuan untuk menyeimbangkan distribusi kelas dengan mengurangi jumlah sampel dari kelas mayoritas. Teknik Random Under Sampler secara khusus digunakan untuk mengatasi ketidakseimbangan kelas dengan cara mengurangi jumlah sampel dari kelas mayoritas sehingga sejajar dengan jumlah sampel dari kelas minoritas. Pendekatan ini membantu dalam memperbaiki masalah ketidakseimbangan kelas dalam dataset dengan cara menyederhanakan dataset sehingga meningkatkan kinerja model dalam memprediksi kelas minoritas. Dengan mengurangi jumlah sampel dari kelas mayoritas, model dapat lebih fokus pada kelas minoritas dan mengurangi bias yang mungkin timbul dari distribusi yang tidak seimbang."
   ]
  },
  {
   "cell_type": "code",
   "execution_count": 19,
   "metadata": {},
   "outputs": [],
   "source": [
    "#UnderSampling\n",
    "from imblearn.under_sampling import NearMiss\n",
    "\n",
    "# Initialize the NearMiss sampler\n",
    "nm = NearMiss(version=1)\n",
    "\n",
    "# Perform under-sampling\n",
    "X_nm, y_nm = nm.fit_resample(X, y)\n",
    "\n",
    "# Split the data into train and test sets\n",
    "X_train, X_test, y_train, y_test = train_test_split(X_nm, y_nm, test_size=0.3, random_state=1)\n"
   ]
  },
  {
   "cell_type": "markdown",
   "metadata": {},
   "source": [
    "#### Pembuatan Model dan Evaluasi"
   ]
  },
  {
   "cell_type": "code",
   "execution_count": 20,
   "metadata": {},
   "outputs": [
    {
     "name": "stdout",
     "output_type": "stream",
     "text": [
      "MODEL NAME: RandomForestClassifier()\n",
      "              precision    recall  f1-score   support\n",
      "\n",
      "         0.0       0.77      0.85      0.80       229\n",
      "         1.0       0.84      0.76      0.79       241\n",
      "\n",
      "    accuracy                           0.80       470\n",
      "   macro avg       0.80      0.80      0.80       470\n",
      "weighted avg       0.80      0.80      0.80       470\n",
      "\n"
     ]
    }
   ],
   "source": [
    "rf2 = RandomForestClassifier()\n",
    "\n",
    "models = [rf2]\n",
    "\n",
    "for model in models:\n",
    "    print(\"MODEL NAME:\",model)\n",
    "    model.fit(X_train,y_train)\n",
    "    y_pred = model.predict(X_test)\n",
    "\n",
    "    print(classification_report(y_test,y_pred))"
   ]
  },
  {
   "cell_type": "markdown",
   "metadata": {},
   "source": [
    "**Interpretasi :**\n",
    "\n",
    "Meskipun terjadi penurunan akurasi dari 97% menjadi 81% dibandingkan saat menggunakan oversampling, model masih memiliki kemampuan yang cukup baik dalam mengklasifikasikan data. Untuk kelas 0, presisinya mencapai 77% dengan recall 88%, menunjukkan bahwa sebagian besar sampel kelas 0 dapat diidentifikasi dengan benar. Sedangkan untuk kelas 1, presisinya mencapai 87% dengan recall 76%, menunjukkan bahwa model tetap memiliki kemampuan yang baik dalam mengenali sampel kelas 1. Meskipun demikian, hasil ini menunjukkan bahwa pendekatan undersampling menghasilkan akurasi yang lebih rendah namun masih memberikan kinerja yang cukup baik dalam mengklasifikasikan data."
   ]
  },
  {
   "cell_type": "markdown",
   "metadata": {},
   "source": [
    "## Metode Hybrid"
   ]
  },
  {
   "cell_type": "markdown",
   "metadata": {},
   "source": [
    "Disini saya menggunakan metode SMOTEEN. SMOTEEN menggabungkan SMOTE dan ENN untuk menyeimbangkan kelas dengan melakukan oversampling dan undersampling sekaligus. Ini menghasilkan sampel sintetis dari kelas minoritas dengan SMOTE dan menghapus sampel yang dianggap noise dengan ENN, meningkatkan kinerja model dalam memprediksi kelas minoritas tanpa mengorbankan akurasi keseluruhan."
   ]
  },
  {
   "cell_type": "code",
   "execution_count": 21,
   "metadata": {},
   "outputs": [],
   "source": [
    "#Hybrid\n",
    "from imblearn.combine import SMOTEENN\n",
    "\n",
    "sample = SMOTEENN()\n",
    "X_over,y_over = sample.fit_resample(X,y)\n",
    "\n",
    "X_train,X_test,y_train,y_test = train_test_split(X_over,y_over,test_size=0.3,random_state=1)"
   ]
  },
  {
   "cell_type": "markdown",
   "metadata": {},
   "source": [
    "#### Pembuatan Model dan Evaluasi"
   ]
  },
  {
   "cell_type": "code",
   "execution_count": 25,
   "metadata": {},
   "outputs": [
    {
     "name": "stdout",
     "output_type": "stream",
     "text": [
      "MODEL NAME: RandomForestClassifier()\n",
      "              precision    recall  f1-score   support\n",
      "\n",
      "         0.0       0.99      0.98      0.99     11104\n",
      "         1.0       0.98      1.00      0.99     12394\n",
      "\n",
      "    accuracy                           0.99     23498\n",
      "   macro avg       0.99      0.99      0.99     23498\n",
      "weighted avg       0.99      0.99      0.99     23498\n",
      "\n"
     ]
    }
   ],
   "source": [
    "rf3 = RandomForestClassifier()\n",
    "\n",
    "models = [rf3]\n",
    "\n",
    "for model in models:\n",
    "    print(\"MODEL NAME:\",model)\n",
    "    model.fit(X_train,y_train)\n",
    "    y_pred = model.predict(X_test)\n",
    "\n",
    "    print(classification_report(y_test,y_pred))"
   ]
  },
  {
   "cell_type": "markdown",
   "metadata": {},
   "source": [
    "**Interpretasi :**\n",
    "\n",
    "Metode hybrid menunjukkan kinerja yang sangat impresif dengan nilai akurasi, presisi, recall, dan F1-score mendekati sempurna. Semakin tinggi nilai F1-score, semakin baik model dalam memprediksi kelas yang tidak seimbang. Untuk kelas 0, F1-score mencapai 0.99, dan untuk kelas 1, F1-score juga 0.99. Selain itu, presisi pada metode hybrid ini sangat tinggi, mencapai 99%, menandakan kemampuannya dalam melakukan prediksi yang sangat akurat. Hasil evaluasi ini menunjukkan bahwa model memiliki keseimbangan yang sangat baik dalam mengenali kedua kelas dan memberikan prediksi yang sangat akurat secara keseluruhan."
   ]
  },
  {
   "cell_type": "markdown",
   "metadata": {},
   "source": [
    "## Kesimpulan"
   ]
  },
  {
   "cell_type": "code",
   "execution_count": 27,
   "metadata": {},
   "outputs": [
    {
     "data": {
      "text/html": [
       "<style type=\"text/css\">\n",
       "</style>\n",
       "<table id=\"T_7f29c\">\n",
       "  <thead>\n",
       "    <tr>\n",
       "      <th class=\"blank level0\" >&nbsp;</th>\n",
       "      <th id=\"T_7f29c_level0_col0\" class=\"col_heading level0 col0\" >Metode Imbalance</th>\n",
       "      <th id=\"T_7f29c_level0_col1\" class=\"col_heading level0 col1\" >Akurasi</th>\n",
       "      <th id=\"T_7f29c_level0_col2\" class=\"col_heading level0 col2\" >Presisi</th>\n",
       "      <th id=\"T_7f29c_level0_col3\" class=\"col_heading level0 col3\" >F1-score</th>\n",
       "      <th id=\"T_7f29c_level0_col4\" class=\"col_heading level0 col4\" >Recall</th>\n",
       "    </tr>\n",
       "  </thead>\n",
       "  <tbody>\n",
       "    <tr>\n",
       "      <th id=\"T_7f29c_level0_row0\" class=\"row_heading level0 row0\" >0</th>\n",
       "      <td id=\"T_7f29c_row0_col0\" class=\"data row0 col0\" >Undersampling</td>\n",
       "      <td id=\"T_7f29c_row0_col1\" class=\"data row0 col1\" >0.97</td>\n",
       "      <td id=\"T_7f29c_row0_col2\" class=\"data row0 col2\" >0.95</td>\n",
       "      <td id=\"T_7f29c_row0_col3\" class=\"data row0 col3\" >0.97</td>\n",
       "      <td id=\"T_7f29c_row0_col4\" class=\"data row0 col4\" >0.99</td>\n",
       "    </tr>\n",
       "    <tr>\n",
       "      <th id=\"T_7f29c_level0_row1\" class=\"row_heading level0 row1\" >1</th>\n",
       "      <td id=\"T_7f29c_row1_col0\" class=\"data row1 col0\" >Oversampling</td>\n",
       "      <td id=\"T_7f29c_row1_col1\" class=\"data row1 col1\" >0.82</td>\n",
       "      <td id=\"T_7f29c_row1_col2\" class=\"data row1 col2\" >0.88</td>\n",
       "      <td id=\"T_7f29c_row1_col3\" class=\"data row1 col3\" >0.83</td>\n",
       "      <td id=\"T_7f29c_row1_col4\" class=\"data row1 col4\" >0.75</td>\n",
       "    </tr>\n",
       "    <tr>\n",
       "      <th id=\"T_7f29c_level0_row2\" class=\"row_heading level0 row2\" >2</th>\n",
       "      <td id=\"T_7f29c_row2_col0\" class=\"data row2 col0\" >Hybrid</td>\n",
       "      <td id=\"T_7f29c_row2_col1\" class=\"data row2 col1\" ><b>0.99</b></td>\n",
       "      <td id=\"T_7f29c_row2_col2\" class=\"data row2 col2\" ><b>0.98</b></td>\n",
       "      <td id=\"T_7f29c_row2_col3\" class=\"data row2 col3\" ><b>0.99</b></td>\n",
       "      <td id=\"T_7f29c_row2_col4\" class=\"data row2 col4\" ><b>1.00</b></td>\n",
       "    </tr>\n",
       "  </tbody>\n",
       "</table>\n"
      ],
      "text/plain": [
       "<pandas.io.formats.style.Styler at 0x25a80a773e0>"
      ]
     },
     "metadata": {},
     "output_type": "display_data"
    }
   ],
   "source": [
    "import pandas as pd\n",
    "\n",
    "# Data yang akan dimasukkan ke dalam dataframe\n",
    "data = {\n",
    "    'Metode Imbalance': ['Undersampling', 'Oversampling', 'Hybrid'],\n",
    "    'Akurasi': ['{:.2f}'.format(0.97), '{:.2f}'.format(0.82), \"<b>0.99</b>\"],\n",
    "    'Presisi': ['{:.2f}'.format(0.95), '{:.2f}'.format(0.88), \"<b>0.98</b>\"],\n",
    "    'F1-score': ['{:.2f}'.format(0.97), '{:.2f}'.format(0.83), \"<b>0.99</b>\"],\n",
    "    'Recall': ['{:.2f}'.format(0.99), '{:.2f}'.format(0.75), \"<b>1.00</b>\"]\n",
    "}\n",
    "\n",
    "# Membuat dataframe\n",
    "DF = pd.DataFrame(data)\n",
    "\n",
    "# Menampilkan dataframe\n",
    "display(DF.style)\n"
   ]
  },
  {
   "cell_type": "markdown",
   "metadata": {},
   "source": [
    "**Interpretasi :**\n",
    "\n",
    "Dari hasil evaluasi, dapat disimpulkan bahwa metode yang paling efektif dalam mengatasi ketidakseimbangan data adalah metode hybrid (SMOTEEN). Metode ini menunjukkan kinerja yang superior dengan akurasi, presisi, F1-score, dan recall yang lebih tinggi dibandingkan dengan metode-metode lainnya. Sebaliknya, metode Oversampling tidak cocok digunakan untuk menangani ketidakseimbangan data pada kasus ini karena kinerjanya paling rendah dibandingkan dengan kedua metode lainnya. Oleh karena itu, disarankan untuk menggunakan metode hybrid (SMOTEEN) untuk mengatasi ketidakseimbangan data pada kasus ini.\n",
    "\n"
   ]
  }
 ],
 "metadata": {
  "kernelspec": {
   "display_name": "Python 3",
   "language": "python",
   "name": "python3"
  },
  "language_info": {
   "codemirror_mode": {
    "name": "ipython",
    "version": 3
   },
   "file_extension": ".py",
   "mimetype": "text/x-python",
   "name": "python",
   "nbconvert_exporter": "python",
   "pygments_lexer": "ipython3",
   "version": "3.12.0"
  }
 },
 "nbformat": 4,
 "nbformat_minor": 2
}
